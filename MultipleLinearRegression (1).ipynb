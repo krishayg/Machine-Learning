{
  "nbformat": 4,
  "nbformat_minor": 0,
  "metadata": {
    "colab": {
      "provenance": []
    },
    "kernelspec": {
      "name": "python3",
      "display_name": "Python 3"
    },
    "language_info": {
      "name": "python"
    }
  },
  "cells": [
    {
      "cell_type": "code",
      "execution_count": null,
      "metadata": {
        "id": "6BWptZ2wW42J"
      },
      "outputs": [],
      "source": [
        "import math\n",
        "import numpy as np\n",
        "import matplotlib.pyplot as plt\n",
        "from copy import deepcopy\n",
        "np.set_printoptions(precision=2)  # reduced display precision on numpy arrays\n",
        "from google.colab import drive\n",
        "drive.mount('/content/drive')"
      ]
    },
    {
      "cell_type": "code",
      "source": [
        "# X_train = np.array([[2104, 5, 1, 45], [1416, 3, 2, 40], [852, 2, 1, 35]]).astype(np.float32)\n",
        "# y_train = np.array([460, 232, 178]).astype(np.float32)\n",
        "\n",
        "data = np.loadtxt(\"/content/drive/My Drive/Colab Notebooks/housedata.txt\", delimiter=',', skiprows=1)\n",
        "X_train = data[:,:4]\n",
        "y_train = data[:,4]"
      ],
      "metadata": {
        "id": "jxKaMt3gjoSP"
      },
      "execution_count": null,
      "outputs": []
    },
    {
      "cell_type": "code",
      "source": [
        "# data is stored in numpy array/matrix\n",
        "print(f\"X Shape: {X_train.shape}, X Type:{type(X_train)})\")\n",
        "print(X_train)\n",
        "print(f\"y Shape: {y_train.shape}, y Type:{type(y_train)})\")\n",
        "print(y_train)"
      ],
      "metadata": {
        "id": "_WeN-4xwj74v",
        "colab": {
          "base_uri": "https://localhost:8080/"
        },
        "outputId": "55d5c89f-7552-4f1e-b257-2b1ef94b4080"
      },
      "execution_count": null,
      "outputs": [
        {
          "output_type": "stream",
          "name": "stdout",
          "text": [
            "X Shape: (99, 4), X Type:<class 'numpy.ndarray'>)\n",
            "[[1.24e+03 3.00e+00 1.00e+00 6.40e+01]\n",
            " [1.95e+03 3.00e+00 2.00e+00 1.70e+01]\n",
            " [1.72e+03 3.00e+00 2.00e+00 4.20e+01]\n",
            " [1.96e+03 3.00e+00 2.00e+00 1.50e+01]\n",
            " [1.31e+03 2.00e+00 1.00e+00 1.40e+01]\n",
            " [8.64e+02 2.00e+00 1.00e+00 6.60e+01]\n",
            " [1.84e+03 3.00e+00 1.00e+00 1.70e+01]\n",
            " [1.03e+03 3.00e+00 1.00e+00 4.30e+01]\n",
            " [3.19e+03 4.00e+00 2.00e+00 8.70e+01]\n",
            " [7.88e+02 2.00e+00 1.00e+00 8.00e+01]\n",
            " [1.20e+03 2.00e+00 2.00e+00 1.70e+01]\n",
            " [1.56e+03 2.00e+00 1.00e+00 1.80e+01]\n",
            " [1.43e+03 3.00e+00 1.00e+00 2.00e+01]\n",
            " [1.22e+03 2.00e+00 1.00e+00 1.50e+01]\n",
            " [1.09e+03 2.00e+00 1.00e+00 6.40e+01]\n",
            " [8.48e+02 1.00e+00 1.00e+00 1.70e+01]\n",
            " [1.68e+03 3.00e+00 2.00e+00 2.30e+01]\n",
            " [1.77e+03 3.00e+00 2.00e+00 1.80e+01]\n",
            " [1.04e+03 3.00e+00 1.00e+00 4.40e+01]\n",
            " [1.65e+03 2.00e+00 1.00e+00 2.10e+01]\n",
            " [1.09e+03 2.00e+00 1.00e+00 3.50e+01]\n",
            " [1.32e+03 3.00e+00 1.00e+00 1.40e+01]\n",
            " [1.59e+03 0.00e+00 1.00e+00 2.00e+01]\n",
            " [9.72e+02 2.00e+00 1.00e+00 7.30e+01]\n",
            " [1.10e+03 3.00e+00 1.00e+00 3.70e+01]\n",
            " [1.00e+03 2.00e+00 1.00e+00 5.10e+01]\n",
            " [9.04e+02 3.00e+00 1.00e+00 5.50e+01]\n",
            " [1.69e+03 3.00e+00 1.00e+00 1.30e+01]\n",
            " [1.07e+03 2.00e+00 1.00e+00 1.00e+02]\n",
            " [1.42e+03 3.00e+00 2.00e+00 1.90e+01]\n",
            " [1.16e+03 3.00e+00 1.00e+00 5.20e+01]\n",
            " [1.94e+03 3.00e+00 2.00e+00 1.20e+01]\n",
            " [1.22e+03 2.00e+00 2.00e+00 7.40e+01]\n",
            " [2.48e+03 4.00e+00 2.00e+00 1.60e+01]\n",
            " [1.20e+03 2.00e+00 1.00e+00 1.80e+01]\n",
            " [1.84e+03 3.00e+00 2.00e+00 2.00e+01]\n",
            " [1.85e+03 3.00e+00 2.00e+00 5.70e+01]\n",
            " [1.66e+03 3.00e+00 2.00e+00 1.90e+01]\n",
            " [1.10e+03 2.00e+00 2.00e+00 9.70e+01]\n",
            " [1.78e+03 3.00e+00 2.00e+00 2.80e+01]\n",
            " [2.03e+03 4.00e+00 2.00e+00 4.50e+01]\n",
            " [1.78e+03 4.00e+00 2.00e+00 1.07e+02]\n",
            " [1.07e+03 2.00e+00 1.00e+00 1.00e+02]\n",
            " [1.55e+03 3.00e+00 1.00e+00 1.60e+01]\n",
            " [1.95e+03 3.00e+00 2.00e+00 1.60e+01]\n",
            " [1.22e+03 2.00e+00 2.00e+00 1.20e+01]\n",
            " [1.62e+03 3.00e+00 1.00e+00 1.60e+01]\n",
            " [8.16e+02 2.00e+00 1.00e+00 5.80e+01]\n",
            " [1.35e+03 3.00e+00 1.00e+00 2.10e+01]\n",
            " [1.57e+03 3.00e+00 1.00e+00 1.40e+01]\n",
            " [1.49e+03 3.00e+00 1.00e+00 5.70e+01]\n",
            " [1.51e+03 2.00e+00 1.00e+00 1.60e+01]\n",
            " [1.10e+03 3.00e+00 1.00e+00 2.70e+01]\n",
            " [1.76e+03 3.00e+00 2.00e+00 2.40e+01]\n",
            " [1.21e+03 2.00e+00 1.00e+00 1.40e+01]\n",
            " [1.47e+03 3.00e+00 2.00e+00 2.40e+01]\n",
            " [1.77e+03 3.00e+00 2.00e+00 8.40e+01]\n",
            " [1.65e+03 3.00e+00 1.00e+00 1.90e+01]\n",
            " [1.03e+03 3.00e+00 1.00e+00 6.00e+01]\n",
            " [1.12e+03 2.00e+00 2.00e+00 1.60e+01]\n",
            " [1.15e+03 3.00e+00 1.00e+00 6.20e+01]\n",
            " [8.16e+02 2.00e+00 1.00e+00 3.90e+01]\n",
            " [1.04e+03 3.00e+00 1.00e+00 2.50e+01]\n",
            " [1.39e+03 3.00e+00 1.00e+00 6.40e+01]\n",
            " [1.60e+03 3.00e+00 2.00e+00 2.90e+01]\n",
            " [1.22e+03 3.00e+00 1.00e+00 6.30e+01]\n",
            " [1.07e+03 2.00e+00 1.00e+00 1.00e+02]\n",
            " [2.60e+03 4.00e+00 2.00e+00 2.20e+01]\n",
            " [1.43e+03 3.00e+00 1.00e+00 5.90e+01]\n",
            " [2.09e+03 3.00e+00 2.00e+00 2.60e+01]\n",
            " [1.79e+03 4.00e+00 2.00e+00 4.90e+01]\n",
            " [1.48e+03 3.00e+00 2.00e+00 1.60e+01]\n",
            " [1.04e+03 3.00e+00 1.00e+00 2.50e+01]\n",
            " [1.43e+03 3.00e+00 1.00e+00 2.20e+01]\n",
            " [1.16e+03 3.00e+00 1.00e+00 5.30e+01]\n",
            " [1.55e+03 3.00e+00 2.00e+00 1.20e+01]\n",
            " [1.98e+03 3.00e+00 2.00e+00 2.20e+01]\n",
            " [1.06e+03 3.00e+00 1.00e+00 5.30e+01]\n",
            " [1.18e+03 2.00e+00 1.00e+00 9.90e+01]\n",
            " [1.36e+03 2.00e+00 1.00e+00 1.70e+01]\n",
            " [9.60e+02 3.00e+00 1.00e+00 5.10e+01]\n",
            " [1.46e+03 3.00e+00 2.00e+00 1.60e+01]\n",
            " [1.45e+03 3.00e+00 2.00e+00 2.50e+01]\n",
            " [1.21e+03 2.00e+00 1.00e+00 1.50e+01]\n",
            " [1.55e+03 3.00e+00 2.00e+00 1.60e+01]\n",
            " [8.82e+02 3.00e+00 1.00e+00 4.90e+01]\n",
            " [2.03e+03 4.00e+00 2.00e+00 4.50e+01]\n",
            " [1.04e+03 3.00e+00 1.00e+00 6.20e+01]\n",
            " [1.62e+03 3.00e+00 1.00e+00 1.60e+01]\n",
            " [8.03e+02 2.00e+00 1.00e+00 8.00e+01]\n",
            " [1.43e+03 3.00e+00 2.00e+00 2.10e+01]\n",
            " [1.66e+03 3.00e+00 1.00e+00 6.10e+01]\n",
            " [1.54e+03 3.00e+00 1.00e+00 1.60e+01]\n",
            " [9.48e+02 3.00e+00 1.00e+00 5.30e+01]\n",
            " [1.22e+03 2.00e+00 2.00e+00 1.20e+01]\n",
            " [1.43e+03 2.00e+00 1.00e+00 4.30e+01]\n",
            " [1.66e+03 3.00e+00 2.00e+00 1.90e+01]\n",
            " [1.21e+03 3.00e+00 1.00e+00 2.00e+01]\n",
            " [1.05e+03 2.00e+00 1.00e+00 6.50e+01]]\n",
            "y Shape: (99,), y Type:<class 'numpy.ndarray'>)\n",
            "[300.   509.8  394.   540.   415.   230.   560.   294.   718.2  200.\n",
            " 302.   468.   374.2  388.   282.   311.8  401.   449.8  301.   502.\n",
            " 340.   400.28 572.   264.   304.   298.   219.8  490.7  216.96 368.2\n",
            " 280.   526.87 237.   562.43 369.8  460.   374.   390.   158.   426.\n",
            " 390.   277.77 216.96 425.8  504.   329.   464.   220.   358.   478.\n",
            " 334.   426.98 290.   463.   390.8  354.   350.   460.   237.   288.3\n",
            " 282.   249.   304.   332.   351.8  310.   216.96 666.34 330.   480.\n",
            " 330.3  348.   304.   384.   316.   430.4  450.   284.   275.   414.\n",
            " 258.   378.   350.   412.   373.   225.   390.   267.4  464.   174.\n",
            " 340.   430.   440.   216.   329.   388.   390.   356.   257.8 ]\n"
          ]
        }
      ]
    },
    {
      "cell_type": "code",
      "source": [
        "b_init = 785.1811367994083\n",
        "w_init = np.array([ 0.39133535, 18.75376741, -53.36032453, -26.42131618])\n",
        "print(f\"w_init shape: {w_init.shape}, b_init type: {type(b_init)}\")"
      ],
      "metadata": {
        "id": "yAYGU3kbkDYD",
        "colab": {
          "base_uri": "https://localhost:8080/"
        },
        "outputId": "17fca775-3758-4d3f-c1e4-fa3de5828418"
      },
      "execution_count": null,
      "outputs": [
        {
          "output_type": "stream",
          "name": "stdout",
          "text": [
            "w_init shape: (4,), b_init type: <class 'float'>\n"
          ]
        }
      ]
    },
    {
      "cell_type": "code",
      "source": [
        "def compute_cost(X, y, w, b,l):\n",
        "    \"\"\"\n",
        "    compute cost\n",
        "    Args:\n",
        "      X (ndarray (m,n)): Data, m examples with n features\n",
        "      y (ndarray (m,)) : target values\n",
        "      w (ndarray (n,)) : model parameters\n",
        "      b (scalar)       : model parameter\n",
        "\n",
        "    Returns:\n",
        "      cost (scalar): cost\n",
        "    \"\"\"\n",
        "    m = X.shape[0]\n",
        "    cost = 0.0\n",
        "    for i in range(m):\n",
        "        f_wb_i = np.dot(X[i], w) + b           #(n,)(n,) = scalar (see np.dot)\n",
        "        cost = cost + (f_wb_i - y[i])**2\n",
        "    tcost=0\n",
        "    for i in range(X.shape[1]):\n",
        "      tcost+=w[i]**2\n",
        "    tcost*=l\n",
        "    cost+=tcost\n",
        "          #scalar\n",
        "    cost = cost / (2 * m)                      #scalar\n",
        "    return cost"
      ],
      "metadata": {
        "id": "1fCm2tI8llMu"
      },
      "execution_count": null,
      "outputs": []
    },
    {
      "cell_type": "code",
      "source": [
        "def predict(x,w,b):\n",
        "  return np.dot(x,w)+b"
      ],
      "metadata": {
        "id": "rEw5_ANBkdZY"
      },
      "execution_count": null,
      "outputs": []
    },
    {
      "cell_type": "code",
      "source": [
        "def compute_gradient(X,y,w,b,l):\n",
        "  j_wb=np.zeros(w.shape[0])\n",
        "  j_b=0\n",
        "  for i in range(X.shape[0]):\n",
        "    j_wb_i=np.zeros(w.shape[0])\n",
        "    b_i=(predict(X[i],w,b)-y[i])\n",
        "    for j in range(w.shape[0]):\n",
        "\n",
        "      j_wb_i[j]=(predict(X[i],w,b)-y[i])*X[i][j]+l*w[j]\n",
        "    j_wb+=j_wb_i\n",
        "    j_b+=b_i\n",
        "  j_wb/=X.shape[0]\n",
        "  j_b/=X.shape[0]\n",
        "  # for k in range()\n",
        "  # for j in range(X.shape[0]):\n",
        "  return j_wb,j_b"
      ],
      "metadata": {
        "id": "sYnfTHbbXaot"
      },
      "execution_count": null,
      "outputs": []
    },
    {
      "cell_type": "code",
      "source": [
        "def gradient_descent(X,y,w,b,a,l,num_iters):\n",
        "  for i in range(num_iters):\n",
        "    j_wb,j_b=compute_gradient(X,y,w,b,l)\n",
        "    w-=a*j_wb\n",
        "    b-=a*j_b\n",
        "    if i%30==0:\n",
        "      print(compute_cost(X,y,w,b,l))\n",
        "  return w,b\n"
      ],
      "metadata": {
        "id": "SdAj6uE8WSnV"
      },
      "execution_count": null,
      "outputs": []
    },
    {
      "cell_type": "code",
      "source": [
        "w_init=np.zeros(X_train[0].shape)\n",
        "b_init=0\n",
        "X_init=deepcopy(X_train)\n",
        "#Scaling\n",
        "# for i in range(w.shape[0]):\n",
        "#   X_init[:,i]=X_init[:,i]/np.amax(X_init[:,i])\n",
        "\n",
        "#Mean Normalization\n",
        "# for i in range(w.shape[0]):\n",
        "#   X_init[:,i]=(X_init[:,i]-np.mean(X_init[:,i]))/(np.amax(X_init[:,i])-np.amin(X_init[:,i]))\n",
        "\n",
        "#Z-score Normalization\n",
        "for i in range(w_init.shape[0]):\n",
        "  X_init[:,i]=(X_init[:,i]-np.mean(X_init[:,i]))/(np.std(X_init[:,i]))\n",
        "print(X_init)\n",
        "y_init=deepcopy(y_train)"
      ],
      "metadata": {
        "id": "BGspAS2ZNOr7",
        "colab": {
          "base_uri": "https://localhost:8080/",
          "height": 244
        },
        "outputId": "61836965-237f-4ca2-8218-632513e3eabc"
      },
      "execution_count": null,
      "outputs": [
        {
          "output_type": "error",
          "ename": "NameError",
          "evalue": "ignored",
          "traceback": [
            "\u001b[0;31m---------------------------------------------------------------------------\u001b[0m",
            "\u001b[0;31mNameError\u001b[0m                                 Traceback (most recent call last)",
            "\u001b[0;32m<ipython-input-1-e185a40401cf>\u001b[0m in \u001b[0;36m<module>\u001b[0;34m()\u001b[0m\n\u001b[0;32m----> 1\u001b[0;31m \u001b[0mw_init\u001b[0m\u001b[0;34m=\u001b[0m\u001b[0mnp\u001b[0m\u001b[0;34m.\u001b[0m\u001b[0mzeros\u001b[0m\u001b[0;34m(\u001b[0m\u001b[0mX_train\u001b[0m\u001b[0;34m[\u001b[0m\u001b[0;36m0\u001b[0m\u001b[0;34m]\u001b[0m\u001b[0;34m.\u001b[0m\u001b[0mshape\u001b[0m\u001b[0;34m)\u001b[0m\u001b[0;34m\u001b[0m\u001b[0;34m\u001b[0m\u001b[0m\n\u001b[0m\u001b[1;32m      2\u001b[0m \u001b[0mb_init\u001b[0m\u001b[0;34m=\u001b[0m\u001b[0;36m0\u001b[0m\u001b[0;34m\u001b[0m\u001b[0;34m\u001b[0m\u001b[0m\n\u001b[1;32m      3\u001b[0m \u001b[0mX_init\u001b[0m\u001b[0;34m=\u001b[0m\u001b[0mdeepcopy\u001b[0m\u001b[0;34m(\u001b[0m\u001b[0mX_train\u001b[0m\u001b[0;34m)\u001b[0m\u001b[0;34m\u001b[0m\u001b[0;34m\u001b[0m\u001b[0m\n\u001b[1;32m      4\u001b[0m \u001b[0;31m#Scaling\u001b[0m\u001b[0;34m\u001b[0m\u001b[0;34m\u001b[0m\u001b[0;34m\u001b[0m\u001b[0m\n\u001b[1;32m      5\u001b[0m \u001b[0;31m# for i in range(w.shape[0]):\u001b[0m\u001b[0;34m\u001b[0m\u001b[0;34m\u001b[0m\u001b[0;34m\u001b[0m\u001b[0m\n",
            "\u001b[0;31mNameError\u001b[0m: name 'np' is not defined"
          ]
        }
      ]
    },
    {
      "cell_type": "code",
      "source": [
        "w,b=gradient_descent(X_init,y_init,w_init,b_init,0.1,0.1,900)\n",
        "# for i in range(w.shape[0]):\n",
        "#   w[i]/=np.amax(X_train[:,i])\n",
        "print(w,b)\n",
        "print(predict(X_train[2],w,b))"
      ],
      "metadata": {
        "id": "9ZIyypVlcBrk",
        "colab": {
          "base_uri": "https://localhost:8080/"
        },
        "outputId": "fa352e28-7f09-40a5-8fbb-19da81866e4d"
      },
      "execution_count": null,
      "outputs": [
        {
          "output_type": "stream",
          "name": "stdout",
          "text": [
            "54965.405283522596\n",
            "574.0283038490079\n",
            "365.79121979928215\n",
            "342.32272174751967\n",
            "336.6096910708481\n",
            "335.1338682879884\n",
            "334.7469825352946\n",
            "334.6451491095341\n",
            "334.618314642555\n",
            "334.61124105726424\n",
            "334.6093762666499\n",
            "334.6088846408265\n",
            "334.6087550291459\n",
            "334.6087208583288\n",
            "334.6087118495226\n",
            "334.6087094744364\n",
            "334.6087088482668\n",
            "334.60870868318307\n",
            "334.60870863966056\n",
            "334.60870862818604\n",
            "334.6087086251606\n",
            "334.60870862436326\n",
            "334.608708624153\n",
            "334.6087086240978\n",
            "334.60870862408314\n",
            "334.60870862407944\n",
            "334.60870862407916\n",
            "334.60870862407916\n",
            "334.60870862407916\n",
            "334.60870862407916\n",
            "[ 90.44 -13.   -21.43 -36.98] 363.15608080808056\n",
            "154745.0826586144\n"
          ]
        }
      ]
    },
    {
      "cell_type": "code",
      "source": [
        "m = X_train.shape[0]\n",
        "f_wb = np.zeros(m)\n",
        "f=0\n",
        "for i in range(m):\n",
        "  f_wb[i] = w[f] * X_init[i][f] + b"
      ],
      "metadata": {
        "id": "MRgYi-lzDSiK"
      },
      "execution_count": null,
      "outputs": []
    },
    {
      "cell_type": "code",
      "source": [
        "print(X_init[:,0].shape, f_wb.shape)\n",
        "X_init"
      ],
      "metadata": {
        "colab": {
          "base_uri": "https://localhost:8080/"
        },
        "id": "wTLMC1LPDSms",
        "outputId": "d23b7b60-1bc3-4c2c-a5ac-167872232994"
      },
      "execution_count": null,
      "outputs": [
        {
          "output_type": "stream",
          "name": "stdout",
          "text": [
            "(99,) (99,)\n"
          ]
        },
        {
          "output_type": "execute_result",
          "data": {
            "text/plain": [
              "array([[-4.24e-01,  4.34e-01, -7.89e-01,  9.94e-01],\n",
              "       [ 1.28e+00,  4.34e-01,  1.27e+00, -8.30e-01],\n",
              "       [ 7.45e-01,  4.34e-01,  1.27e+00,  1.40e-01],\n",
              "       [ 1.31e+00,  4.34e-01,  1.27e+00, -9.07e-01],\n",
              "       [-2.54e-01, -1.10e+00, -7.89e-01, -9.46e-01],\n",
              "       [-1.35e+00, -1.10e+00, -7.89e-01,  1.07e+00],\n",
              "       [ 1.01e+00,  4.34e-01, -7.89e-01, -8.30e-01],\n",
              "       [-9.53e-01,  4.34e-01, -7.89e-01,  1.79e-01],\n",
              "       [ 4.31e+00,  1.97e+00,  1.27e+00,  1.89e+00],\n",
              "       [-1.53e+00, -1.10e+00, -7.89e-01,  1.61e+00],\n",
              "       [-5.31e-01, -1.10e+00,  1.27e+00, -8.30e-01],\n",
              "       [ 3.37e-01, -1.10e+00, -7.89e-01, -7.91e-01],\n",
              "       [ 2.82e-02,  4.34e-01, -7.89e-01, -7.13e-01],\n",
              "       [-4.82e-01, -1.10e+00, -7.89e-01, -9.07e-01],\n",
              "       [-7.93e-01, -1.10e+00, -7.89e-01,  9.94e-01],\n",
              "       [-1.39e+00, -2.63e+00, -7.89e-01, -8.30e-01],\n",
              "       [ 6.40e-01,  4.34e-01,  1.27e+00, -5.97e-01],\n",
              "       [ 8.49e-01,  4.34e-01,  1.27e+00, -7.91e-01],\n",
              "       [-9.19e-01,  4.34e-01, -7.89e-01,  2.18e-01],\n",
              "       [ 5.68e-01, -1.10e+00, -7.89e-01, -6.74e-01],\n",
              "       [-8.03e-01, -1.10e+00, -7.89e-01, -1.31e-01],\n",
              "       [-2.49e-01,  4.34e-01, -7.89e-01, -9.46e-01],\n",
              "       [ 4.24e-01, -4.17e+00, -7.89e-01, -7.13e-01],\n",
              "       [-1.08e+00, -1.10e+00, -7.89e-01,  1.34e+00],\n",
              "       [-7.81e-01,  4.34e-01, -7.89e-01, -5.37e-02],\n",
              "       [-1.01e+00, -1.10e+00, -7.89e-01,  4.89e-01],\n",
              "       [-1.25e+00,  4.34e-01, -7.89e-01,  6.45e-01],\n",
              "       [ 6.70e-01,  4.34e-01, -7.89e-01, -9.85e-01],\n",
              "       [-8.39e-01, -1.10e+00, -7.89e-01,  2.39e+00],\n",
              "       [ 1.52e-03,  4.34e-01,  1.27e+00, -7.52e-01],\n",
              "       [-6.18e-01,  4.34e-01, -7.89e-01,  5.28e-01],\n",
              "       [ 1.26e+00,  4.34e-01,  1.27e+00, -1.02e+00],\n",
              "       [-4.92e-01, -1.10e+00,  1.27e+00,  1.38e+00],\n",
              "       [ 2.58e+00,  1.97e+00,  1.27e+00, -8.68e-01],\n",
              "       [-5.31e-01, -1.10e+00, -7.89e-01, -7.91e-01],\n",
              "       [ 1.02e+00,  4.34e-01,  1.27e+00, -7.13e-01],\n",
              "       [ 1.05e+00,  4.34e-01,  1.27e+00,  7.22e-01],\n",
              "       [ 5.87e-01,  4.34e-01,  1.27e+00, -7.52e-01],\n",
              "       [-7.83e-01, -1.10e+00,  1.27e+00,  2.27e+00],\n",
              "       [ 8.66e-01,  4.34e-01,  1.27e+00, -4.03e-01],\n",
              "       [ 1.49e+00,  1.97e+00,  1.27e+00,  2.57e-01],\n",
              "       [ 8.88e-01,  1.97e+00,  1.27e+00,  2.66e+00],\n",
              "       [-8.39e-01, -1.10e+00, -7.89e-01,  2.39e+00],\n",
              "       [ 3.25e-01,  4.34e-01, -7.89e-01, -8.68e-01],\n",
              "       [ 1.30e+00,  4.34e-01,  1.27e+00, -8.68e-01],\n",
              "       [-4.72e-01, -1.10e+00,  1.27e+00, -1.02e+00],\n",
              "       [ 4.80e-01,  4.34e-01, -7.89e-01, -8.68e-01],\n",
              "       [-1.46e+00, -1.10e+00, -7.89e-01,  7.61e-01],\n",
              "       [-1.69e-01,  4.34e-01, -7.89e-01, -6.74e-01],\n",
              "       [ 3.71e-01,  4.34e-01, -7.89e-01, -9.46e-01],\n",
              "       [ 1.64e-01,  4.34e-01, -7.89e-01,  7.22e-01],\n",
              "       [ 2.13e-01, -1.10e+00, -7.89e-01, -8.68e-01],\n",
              "       [-7.81e-01,  4.34e-01, -7.89e-01, -4.42e-01],\n",
              "       [ 8.40e-01,  4.34e-01,  1.27e+00, -5.58e-01],\n",
              "       [-5.11e-01, -1.10e+00, -7.89e-01, -9.46e-01],\n",
              "       [ 1.25e-01,  4.34e-01,  1.27e+00, -5.58e-01],\n",
              "       [ 8.49e-01,  4.34e-01,  1.27e+00,  1.77e+00],\n",
              "       [ 5.72e-01,  4.34e-01, -7.89e-01, -7.52e-01],\n",
              "       [-9.46e-01,  4.34e-01, -7.89e-01,  8.39e-01],\n",
              "       [-7.25e-01, -1.10e+00,  1.27e+00, -8.68e-01],\n",
              "       [-6.52e-01,  4.34e-01, -7.89e-01,  9.16e-01],\n",
              "       [-1.46e+00, -1.10e+00, -7.89e-01,  2.39e-02],\n",
              "       [-9.19e-01,  4.34e-01, -7.89e-01, -5.19e-01],\n",
              "       [-6.41e-02,  4.34e-01, -7.89e-01,  9.94e-01],\n",
              "       [ 4.49e-01,  4.34e-01,  1.27e+00, -3.64e-01],\n",
              "       [-4.94e-01,  4.34e-01, -7.89e-01,  9.55e-01],\n",
              "       [-8.39e-01, -1.10e+00, -7.89e-01,  2.39e+00],\n",
              "       [ 2.87e+00,  1.97e+00,  1.27e+00, -6.36e-01],\n",
              "       [ 3.07e-02,  4.34e-01, -7.89e-01,  8.00e-01],\n",
              "       [ 1.63e+00,  4.34e-01,  1.27e+00, -4.80e-01],\n",
              "       [ 9.03e-01,  1.97e+00,  1.27e+00,  4.12e-01],\n",
              "       [ 1.59e-01,  4.34e-01,  1.27e+00, -8.68e-01],\n",
              "       [-9.19e-01,  4.34e-01, -7.89e-01, -5.19e-01],\n",
              "       [ 3.07e-02,  4.34e-01, -7.89e-01, -6.36e-01],\n",
              "       [-6.30e-01,  4.34e-01, -7.89e-01,  5.67e-01],\n",
              "       [ 3.12e-01,  4.34e-01,  1.27e+00, -1.02e+00],\n",
              "       [ 1.37e+00,  4.34e-01,  1.27e+00, -6.36e-01],\n",
              "       [-8.80e-01,  4.34e-01, -7.89e-01,  5.67e-01],\n",
              "       [-5.79e-01, -1.10e+00, -7.89e-01,  2.35e+00],\n",
              "       [-1.47e-01, -1.10e+00, -7.89e-01, -8.30e-01],\n",
              "       [-1.11e+00,  4.34e-01, -7.89e-01,  4.89e-01],\n",
              "       [ 9.14e-02,  4.34e-01,  1.27e+00, -8.68e-01],\n",
              "       [ 6.71e-02,  4.34e-01,  1.27e+00, -5.19e-01],\n",
              "       [-5.11e-01, -1.10e+00, -7.89e-01, -9.07e-01],\n",
              "       [ 3.27e-01,  4.34e-01,  1.27e+00, -8.68e-01],\n",
              "       [-1.30e+00,  4.34e-01, -7.89e-01,  4.12e-01],\n",
              "       [ 1.49e+00,  1.97e+00,  1.27e+00,  2.57e-01],\n",
              "       [-9.19e-01,  4.34e-01, -7.89e-01,  9.16e-01],\n",
              "       [ 4.80e-01,  4.34e-01, -7.89e-01, -8.68e-01],\n",
              "       [-1.50e+00, -1.10e+00, -7.89e-01,  1.61e+00],\n",
              "       [ 2.82e-02,  4.34e-01,  1.27e+00, -6.74e-01],\n",
              "       [ 5.77e-01,  4.34e-01, -7.89e-01,  8.77e-01],\n",
              "       [ 2.98e-01,  4.34e-01, -7.89e-01, -8.68e-01],\n",
              "       [-1.14e+00,  4.34e-01, -7.89e-01,  5.67e-01],\n",
              "       [-4.72e-01, -1.10e+00,  1.27e+00, -1.02e+00],\n",
              "       [ 3.31e-02, -1.10e+00, -7.89e-01,  1.79e-01],\n",
              "       [ 5.87e-01,  4.34e-01,  1.27e+00, -7.52e-01],\n",
              "       [-5.01e-01,  4.34e-01, -7.89e-01, -7.13e-01],\n",
              "       [-8.95e-01, -1.10e+00, -7.89e-01,  1.03e+00]])"
            ]
          },
          "metadata": {},
          "execution_count": 26
        }
      ]
    },
    {
      "cell_type": "code",
      "source": [
        "\n",
        "plt.plot(X_init[:,f], f_wb, c='b',label='Our Prediction')\n",
        "\n",
        "# Plot the data points\n",
        "plt.scatter(X_init[:,f], y_train, marker='x', c='r',label='Actual Values')\n",
        "\n",
        "\n",
        "plt.legend()\n",
        "plt.show()"
      ],
      "metadata": {
        "colab": {
          "base_uri": "https://localhost:8080/",
          "height": 265
        },
        "id": "ucuxsRsHvpxx",
        "outputId": "694bfdc3-8afb-40c8-8dd2-5559da661a60"
      },
      "execution_count": null,
      "outputs": [
        {
          "output_type": "display_data",
          "data": {
            "text/plain": [
              "<Figure size 432x288 with 1 Axes>"
            ],
            "image/png": "[encoded data removed]"
          },
          "metadata": {
            "needs_background": "light"
          }
        }
      ]
    },
    {
      "cell_type": "code",
      "source": [
        "##Your House Here\n",
        "X_predict=[5849,5,2,37]\n",
        "\n",
        "\n",
        "for i in range(w.shape[0]):\n",
        "  X_predict[i]=(X_predict[i]-np.mean(X_train[:,i]))/(np.std(X_train[:,i]))\n",
        "print(X_predict)\n",
        "\n",
        "print(predict(X_predict,w,b))"
      ],
      "metadata": {
        "colab": {
          "base_uri": "https://localhost:8080/"
        },
        "id": "2E5-LBd8jc2m",
        "outputId": "a876e158-a7e7-46c2-ad7f-f248a55c9c41"
      },
      "execution_count": null,
      "outputs": [
        {
          "output_type": "stream",
          "name": "stdout",
          "text": [
            "[10.763989390238649, 3.501457072742883, 1.266989801811655, -0.05368317126654802]\n",
            "1439.359704266293\n"
          ]
        }
      ]
    }
  ]
}