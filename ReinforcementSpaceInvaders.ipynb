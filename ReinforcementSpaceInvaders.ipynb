{
  "nbformat": 4,
  "nbformat_minor": 0,
  "metadata": {
    "colab": {
      "provenance": [],
      "gpuType": "T4"
    },
    "kernelspec": {
      "name": "python3",
      "display_name": "Python 3"
    },
    "language_info": {
      "name": "python"
    },
    "accelerator": "GPU"
  },
  "cells": [
    {
      "cell_type": "code",
      "source": [
        "!pip install gym[atari]\n",
        "!pip install autorom[accept-rom-license]\n",
        "!pip install autorom[accept-rom-license]\n",
        "!pip install --upgrade gym==0.24.0\n",
        "!pip install --upgrade ale_py==0.7.2\n",
        "!pip install ale_py==0.7.2\n",
        "!pip install keras-rl2\n",
        "!pip install --upgrade tensorflow==2.8.0"
      ],
      "metadata": {
        "id": "3gK9K9Ew8GAb"
      },
      "execution_count": null,
      "outputs": []
    },
    {
      "cell_type": "code",
      "execution_count": null,
      "metadata": {
        "id": "IbVslht763cv"
      },
      "outputs": [],
      "source": [
        "import gym\n",
        "import random\n",
        "import ale_py\n",
        "import matplotlib.pyplot as plt\n",
        "from IPython.display import clear_output\n",
        "import numpy as np\n"
      ]
    },
    {
      "cell_type": "code",
      "source": [
        "env=gym.make('SpaceInvaders-v0')\n",
        "height, width, channels = env.observation_space.shape\n",
        "actions=env.action_space.n\n",
        "env.render_mode='human'\n",
        "disable_env_checker=True"
      ],
      "metadata": {
        "id": "40Y1iK4b7i2t"
      },
      "execution_count": null,
      "outputs": []
    },
    {
      "cell_type": "code",
      "source": [
        "import cv2\n",
        "\n",
        "class ImageCompressionWrapper(gym.ObservationWrapper):\n",
        "    def __init__(self, env):\n",
        "        super().__init__(env)\n",
        "        self.compressed_shape = (32, 32, 3)  # Set the desired compressed shape\n",
        "        self.observation_space = gym.spaces.Box(low=0, high=255, shape=self.compressed_shape, dtype=np.uint8)\n",
        "\n",
        "    def observation(self, observation):\n",
        "      #print(observation)\n",
        "      compressed_observation = self.compress_image(observation)\n",
        "      return compressed_observation\n",
        "\n",
        "    def compress_image(self,image):\n",
        "      compressed_image = cv2.resize(image, (self.compressed_shape[1], self.compressed_shape[0]), interpolation=cv2.INTER_AREA)\n",
        "      return compressed_image\n",
        "env = ImageCompressionWrapper(env)\n",
        "height, width, channels = env.observation_space.shape\n",
        "print(height,width)"
      ],
      "metadata": {
        "id": "mh7c0yeTIdPb"
      },
      "execution_count": null,
      "outputs": []
    },
    {
      "cell_type": "code",
      "source": [
        "env.unwrapped.get_action_meanings()"
      ],
      "metadata": {
        "colab": {
          "base_uri": "https://localhost:8080/"
        },
        "id": "OGD2KCMrBudy",
        "outputId": "3ff0ba84-f7e6-4ff6-b681-0d86aa785e55"
      },
      "execution_count": null,
      "outputs": [
        {
          "output_type": "execute_result",
          "data": {
            "text/plain": [
              "['NOOP', 'FIRE', 'RIGHT', 'LEFT', 'RIGHTFIRE', 'LEFTFIRE']"
            ]
          },
          "metadata": {},
          "execution_count": 36
        }
      ]
    },
    {
      "cell_type": "code",
      "source": [
        "episodes=5\n",
        "img = plt.imshow(env.render(mode=\"rgb_array\"))\n",
        "for episode in range(episodes):\n",
        "    state=env.reset()\n",
        "    done=False\n",
        "    score=0\n",
        "    while not done:\n",
        "        img.set_data(env.render(mode='rgb_array'))\n",
        "        display(plt.gcf())\n",
        "        action=random.choice([0,1,2,3,4,5])\n",
        "        #print(env.step(action))\n",
        "        n_state, reward, done,info=env.step(action)\n",
        "        score+=reward\n",
        "        clear_output(wait=True)\n",
        "        #print(score)\n",
        "    print('Episode:{} Score:{}'.format(episode,score))\n",
        "env.close()"
      ],
      "metadata": {
        "id": "Z0W9qGw6DhvH"
      },
      "execution_count": null,
      "outputs": []
    },
    {
      "cell_type": "code",
      "source": [
        "import numpy as np\n",
        "from tensorflow.keras.models import Sequential\n",
        "from tensorflow.keras.layers import Dense, Flatten, Convolution2D\n",
        "from tensorflow.keras.optimizers import Adam"
      ],
      "metadata": {
        "id": "9pwtNB_a72K9"
      },
      "execution_count": null,
      "outputs": []
    },
    {
      "cell_type": "code",
      "source": [
        "def build_model(height,width, channels, actions):\n",
        "    model=Sequential()\n",
        "    model.add(Convolution2D(32,(8,8),strides=(4,4),activation='relu',input_shape=(1,height,width,channels)))\n",
        "    model.add(Convolution2D(32,(4,4),strides=(2,2),activation='relu'))\n",
        "    #model.add(Convolution2D(64,(3,3),activation='relu'))\n",
        "    model.add(Flatten())\n",
        "    model.add(Dense(128,activation='relu'))\n",
        "    model.add(Dense(64,activation='relu'))\n",
        "    model.add(Dense(actions,activation='linear'))\n",
        "    return model\n"
      ],
      "metadata": {
        "id": "ZV9mjVvA79n6"
      },
      "execution_count": null,
      "outputs": []
    },
    {
      "cell_type": "code",
      "source": [
        "del model"
      ],
      "metadata": {
        "id": "rk4BrbGL8axy"
      },
      "execution_count": null,
      "outputs": []
    },
    {
      "cell_type": "code",
      "source": [
        "model=build_model(height,width,channels,actions)"
      ],
      "metadata": {
        "id": "yI458zhj8AWS"
      },
      "execution_count": null,
      "outputs": []
    },
    {
      "cell_type": "code",
      "source": [
        "model.summary()"
      ],
      "metadata": {
        "colab": {
          "base_uri": "https://localhost:8080/"
        },
        "id": "i_NKw1eJ8DIa",
        "outputId": "8595fe70-85f5-4d96-897f-8e8699d1723b"
      },
      "execution_count": null,
      "outputs": [
        {
          "output_type": "stream",
          "name": "stdout",
          "text": [
            "Model: \"sequential\"\n",
            "_________________________________________________________________\n",
            " Layer (type)                Output Shape              Param #   \n",
            "=================================================================\n",
            " conv2d (Conv2D)             (None, 1, 7, 7, 32)       6176      \n",
            "                                                                 \n",
            " conv2d_1 (Conv2D)           (None, 1, 2, 2, 32)       16416     \n",
            "                                                                 \n",
            " flatten (Flatten)           (None, 128)               0         \n",
            "                                                                 \n",
            " dense (Dense)               (None, 128)               16512     \n",
            "                                                                 \n",
            " dense_1 (Dense)             (None, 64)                8256      \n",
            "                                                                 \n",
            " dense_2 (Dense)             (None, 6)                 390       \n",
            "                                                                 \n",
            "=================================================================\n",
            "Total params: 47,750\n",
            "Trainable params: 47,750\n",
            "Non-trainable params: 0\n",
            "_________________________________________________________________\n"
          ]
        }
      ]
    },
    {
      "cell_type": "code",
      "source": [
        "from tensorflow import keras\n",
        "import rl\n",
        "from rl.agents import DQNAgent\n",
        "from rl.memory import SequentialMemory\n",
        "from rl.policy import LinearAnnealedPolicy,EpsGreedyQPolicy"
      ],
      "metadata": {
        "id": "7Cu2mSDi8E8L"
      },
      "execution_count": null,
      "outputs": []
    },
    {
      "cell_type": "code",
      "source": [
        "def build_agent(model,actions):\n",
        "    policy=LinearAnnealedPolicy(EpsGreedyQPolicy(),attr='eps',value_max=1.,value_min=.1, value_test=.2, nb_steps=10000)\n",
        "    memory=SequentialMemory(limit=1000,window_length=1)\n",
        "    dqn=DQNAgent(model=model,memory=memory,policy=policy,\n",
        "                 enable_dueling_network=True, dueling_type='avg',nb_actions=actions,nb_steps_warmup=1000)\n",
        "    return dqn"
      ],
      "metadata": {
        "id": "g_KK6OFx8Guo"
      },
      "execution_count": null,
      "outputs": []
    },
    {
      "cell_type": "code",
      "source": [
        "dqn=build_agent(model,actions)\n",
        "dqn.compile(Adam(learning_rate=1e-4))\n",
        "dqn.fit(env,nb_steps=10000,visualize=False,verbose=2)"
      ],
      "metadata": {
        "colab": {
          "base_uri": "https://localhost:8080/"
        },
        "id": "h6NikEPm8TA8",
        "outputId": "cba415d1-21da-4e09-85c1-460b4bf4c21c"
      },
      "execution_count": null,
      "outputs": [
        {
          "output_type": "stream",
          "name": "stdout",
          "text": [
            "Training for 10000 steps ...\n",
            "  796/10000: episode: 1, duration: 2.029s, episode steps: 796, steps per second: 392, episode reward: 165.000, mean reward:  0.207 [ 0.000, 30.000], mean action: 2.521 [0.000, 5.000],  loss: --, mean_q: --, mean_eps: --\n"
          ]
        },
        {
          "output_type": "stream",
          "name": "stderr",
          "text": [
            "/usr/local/lib/python3.10/dist-packages/gym/utils/seeding.py:63: DeprecationWarning: \u001b[33mWARN: Function `rng.randint(low, [high, size, dtype])` is marked as deprecated and will be removed in the future. Please use `rng.integers(low, [high, size, dtype])` instead.\u001b[0m\n",
            "  deprecation(\n",
            "/usr/local/lib/python3.10/dist-packages/keras/engine/training_v1.py:2079: UserWarning: `Model.state_updates` will be removed in a future version. This property should not be used in TensorFlow 2.0, as `updates` are applied automatically.\n",
            "  updates=self.state_updates,\n"
          ]
        },
        {
          "output_type": "stream",
          "name": "stdout",
          "text": [
            " 1678/10000: episode: 2, duration: 16.287s, episode steps: 882, steps per second:  54, episode reward: 215.000, mean reward:  0.244 [ 0.000, 30.000], mean action: 2.539 [0.000, 5.000],  loss: 1.555089, mean_q: 4.713728, mean_eps: 0.879490\n"
          ]
        },
        {
          "output_type": "stream",
          "name": "stderr",
          "text": [
            "/usr/local/lib/python3.10/dist-packages/gym/utils/seeding.py:63: DeprecationWarning: \u001b[33mWARN: Function `rng.randint(low, [high, size, dtype])` is marked as deprecated and will be removed in the future. Please use `rng.integers(low, [high, size, dtype])` instead.\u001b[0m\n",
            "  deprecation(\n"
          ]
        },
        {
          "output_type": "stream",
          "name": "stdout",
          "text": [
            " 3064/10000: episode: 3, duration: 30.790s, episode steps: 1386, steps per second:  45, episode reward: 630.000, mean reward:  0.455 [ 0.000, 200.000], mean action: 2.659 [0.000, 5.000],  loss: 14.960479, mean_q: 5.032790, mean_eps: 0.786655\n"
          ]
        },
        {
          "output_type": "stream",
          "name": "stderr",
          "text": [
            "/usr/local/lib/python3.10/dist-packages/gym/utils/seeding.py:63: DeprecationWarning: \u001b[33mWARN: Function `rng.randint(low, [high, size, dtype])` is marked as deprecated and will be removed in the future. Please use `rng.integers(low, [high, size, dtype])` instead.\u001b[0m\n",
            "  deprecation(\n"
          ]
        },
        {
          "output_type": "stream",
          "name": "stdout",
          "text": [
            " 3420/10000: episode: 4, duration: 8.362s, episode steps: 356, steps per second:  43, episode reward: 50.000, mean reward:  0.140 [ 0.000, 20.000], mean action: 2.517 [0.000, 5.000],  loss: 32.659678, mean_q: 6.266610, mean_eps: 0.708265\n"
          ]
        },
        {
          "output_type": "stream",
          "name": "stderr",
          "text": [
            "/usr/local/lib/python3.10/dist-packages/gym/utils/seeding.py:63: DeprecationWarning: \u001b[33mWARN: Function `rng.randint(low, [high, size, dtype])` is marked as deprecated and will be removed in the future. Please use `rng.integers(low, [high, size, dtype])` instead.\u001b[0m\n",
            "  deprecation(\n"
          ]
        },
        {
          "output_type": "stream",
          "name": "stdout",
          "text": [
            " 4423/10000: episode: 5, duration: 21.955s, episode steps: 1003, steps per second:  46, episode reward: 305.000, mean reward:  0.304 [ 0.000, 30.000], mean action: 2.693 [0.000, 5.000],  loss: 7.223173, mean_q: 5.270829, mean_eps: 0.647110\n"
          ]
        },
        {
          "output_type": "stream",
          "name": "stderr",
          "text": [
            "/usr/local/lib/python3.10/dist-packages/gym/utils/seeding.py:63: DeprecationWarning: \u001b[33mWARN: Function `rng.randint(low, [high, size, dtype])` is marked as deprecated and will be removed in the future. Please use `rng.integers(low, [high, size, dtype])` instead.\u001b[0m\n",
            "  deprecation(\n"
          ]
        },
        {
          "output_type": "stream",
          "name": "stdout",
          "text": [
            " 5243/10000: episode: 6, duration: 17.773s, episode steps: 820, steps per second:  46, episode reward: 110.000, mean reward:  0.134 [ 0.000, 25.000], mean action: 2.735 [0.000, 5.000],  loss: 1.865297, mean_q: 4.258023, mean_eps: 0.565075\n"
          ]
        },
        {
          "output_type": "stream",
          "name": "stderr",
          "text": [
            "/usr/local/lib/python3.10/dist-packages/gym/utils/seeding.py:63: DeprecationWarning: \u001b[33mWARN: Function `rng.randint(low, [high, size, dtype])` is marked as deprecated and will be removed in the future. Please use `rng.integers(low, [high, size, dtype])` instead.\u001b[0m\n",
            "  deprecation(\n"
          ]
        },
        {
          "output_type": "stream",
          "name": "stdout",
          "text": [
            " 5738/10000: episode: 7, duration: 11.458s, episode steps: 495, steps per second:  43, episode reward:  0.000, mean reward:  0.000 [ 0.000,  0.000], mean action: 2.299 [0.000, 5.000],  loss: 0.679664, mean_q: 4.414666, mean_eps: 0.505900\n"
          ]
        },
        {
          "output_type": "stream",
          "name": "stderr",
          "text": [
            "/usr/local/lib/python3.10/dist-packages/gym/utils/seeding.py:63: DeprecationWarning: \u001b[33mWARN: Function `rng.randint(low, [high, size, dtype])` is marked as deprecated and will be removed in the future. Please use `rng.integers(low, [high, size, dtype])` instead.\u001b[0m\n",
            "  deprecation(\n"
          ]
        },
        {
          "output_type": "stream",
          "name": "stdout",
          "text": [
            " 6930/10000: episode: 8, duration: 26.902s, episode steps: 1192, steps per second:  44, episode reward: 160.000, mean reward:  0.134 [ 0.000, 30.000], mean action: 2.414 [0.000, 5.000],  loss: 0.988114, mean_q: 4.613723, mean_eps: 0.429985\n"
          ]
        },
        {
          "output_type": "stream",
          "name": "stderr",
          "text": [
            "/usr/local/lib/python3.10/dist-packages/gym/utils/seeding.py:63: DeprecationWarning: \u001b[33mWARN: Function `rng.randint(low, [high, size, dtype])` is marked as deprecated and will be removed in the future. Please use `rng.integers(low, [high, size, dtype])` instead.\u001b[0m\n",
            "  deprecation(\n"
          ]
        },
        {
          "output_type": "stream",
          "name": "stdout",
          "text": [
            " 7635/10000: episode: 9, duration: 15.650s, episode steps: 705, steps per second:  45, episode reward: 60.000, mean reward:  0.085 [ 0.000, 15.000], mean action: 2.328 [0.000, 5.000],  loss: 0.617496, mean_q: 4.156478, mean_eps: 0.344620\n"
          ]
        },
        {
          "output_type": "stream",
          "name": "stderr",
          "text": [
            "/usr/local/lib/python3.10/dist-packages/gym/utils/seeding.py:63: DeprecationWarning: \u001b[33mWARN: Function `rng.randint(low, [high, size, dtype])` is marked as deprecated and will be removed in the future. Please use `rng.integers(low, [high, size, dtype])` instead.\u001b[0m\n",
            "  deprecation(\n"
          ]
        },
        {
          "output_type": "stream",
          "name": "stdout",
          "text": [
            " 8516/10000: episode: 10, duration: 19.010s, episode steps: 881, steps per second:  46, episode reward: 305.000, mean reward:  0.346 [ 0.000, 30.000], mean action: 2.537 [0.000, 5.000],  loss: 1.168459, mean_q: 3.937995, mean_eps: 0.273250\n"
          ]
        },
        {
          "output_type": "stream",
          "name": "stderr",
          "text": [
            "/usr/local/lib/python3.10/dist-packages/gym/utils/seeding.py:63: DeprecationWarning: \u001b[33mWARN: Function `rng.randint(low, [high, size, dtype])` is marked as deprecated and will be removed in the future. Please use `rng.integers(low, [high, size, dtype])` instead.\u001b[0m\n",
            "  deprecation(\n"
          ]
        },
        {
          "output_type": "stream",
          "name": "stdout",
          "text": [
            " 8922/10000: episode: 11, duration: 9.747s, episode steps: 406, steps per second:  42, episode reward: 55.000, mean reward:  0.135 [ 0.000, 20.000], mean action: 2.436 [0.000, 5.000],  loss: 2.250030, mean_q: 4.317207, mean_eps: 0.215335\n"
          ]
        },
        {
          "output_type": "stream",
          "name": "stderr",
          "text": [
            "/usr/local/lib/python3.10/dist-packages/gym/utils/seeding.py:63: DeprecationWarning: \u001b[33mWARN: Function `rng.randint(low, [high, size, dtype])` is marked as deprecated and will be removed in the future. Please use `rng.integers(low, [high, size, dtype])` instead.\u001b[0m\n",
            "  deprecation(\n"
          ]
        },
        {
          "output_type": "stream",
          "name": "stdout",
          "text": [
            " 9809/10000: episode: 12, duration: 19.016s, episode steps: 887, steps per second:  47, episode reward: 200.000, mean reward:  0.225 [ 0.000, 30.000], mean action: 2.807 [0.000, 5.000],  loss: 1.449578, mean_q: 4.691851, mean_eps: 0.157150\n"
          ]
        },
        {
          "output_type": "stream",
          "name": "stderr",
          "text": [
            "/usr/local/lib/python3.10/dist-packages/gym/utils/seeding.py:63: DeprecationWarning: \u001b[33mWARN: Function `rng.randint(low, [high, size, dtype])` is marked as deprecated and will be removed in the future. Please use `rng.integers(low, [high, size, dtype])` instead.\u001b[0m\n",
            "  deprecation(\n"
          ]
        },
        {
          "output_type": "stream",
          "name": "stdout",
          "text": [
            "done, took 202.836 seconds\n"
          ]
        },
        {
          "output_type": "execute_result",
          "data": {
            "text/plain": [
              "<keras.callbacks.History at 0x7ac4c21b9a50>"
            ]
          },
          "metadata": {},
          "execution_count": 56
        }
      ]
    }
  ]
}